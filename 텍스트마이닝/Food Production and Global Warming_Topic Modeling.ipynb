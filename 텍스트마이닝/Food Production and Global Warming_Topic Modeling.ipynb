{
 "cells": [
  {
   "cell_type": "code",
   "execution_count": 1,
   "id": "915d8125",
   "metadata": {},
   "outputs": [],
   "source": [
    "import pandas as pd\n",
    "\n",
    "df=pd.read_excel('food production and global warming.xls')\n",
    "abstract=df['Abstract']\n",
    "abstract = abstract.astype(str)"
   ]
  },
  {
   "cell_type": "code",
   "execution_count": 2,
   "id": "93749005",
   "metadata": {},
   "outputs": [],
   "source": [
    "import pandas as pd\n",
    "import nltk\n",
    "from nltk.tokenize import word_tokenize\n",
    "from nltk.stem import WordNetLemmatizer\n",
    "from nltk.corpus import stopwords\n",
    "from gensim import corpora\n",
    "import re\n",
    "\n",
    "lemmatizer = WordNetLemmatizer()\n",
    "def clean_text(text):\n",
    "\n",
    "    # 특수 문자 및 숫자 제거\n",
    "    text = re.sub(r'[^a-zA-Z\\s]', '', text)\n",
    "\n",
    "    # 소문자 변환\n",
    "    text = text.lower()\n",
    "\n",
    "    # 토큰화\n",
    "    tokens = nltk.word_tokenize(text)\n",
    "\n",
    "    # 불용어 제거\n",
    "    s_words = set(stopwords.words('english'))\n",
    "    tokens = [token for token in tokens if token not in s_words]\n",
    "\n",
    "    # 표제어 추출\n",
    "    lemmatizer = WordNetLemmatizer()\n",
    "    tokens = [lemmatizer.lemmatize(token) for token in tokens]\n",
    "\n",
    "    # 토큰 길이가 2보다 작은 경우(불용어) 제거\n",
    "    tokens = [token for token in tokens if len(token) > 2]\n",
    "    \n",
    "    return tokens\n",
    "\n",
    "cleaned_abstract = abstract.apply(clean_text)\n",
    "cleaned_abstract\n",
    "\n",
    "dic = corpora.Dictionary(cleaned_abstract)\n",
    "# 빈도수가 너무 낮거나 높은 단어 제거\n",
    "dic.filter_extremes(no_below=5, no_above=0.5)\n",
    "# corpus 생성, 각 문서를 단어 출현 빈도로 변환하여 corpus 생성\n",
    "corpus = [dic.doc2bow(text) for text in cleaned_abstract]"
   ]
  },
  {
   "cell_type": "code",
   "execution_count": 4,
   "id": "ea75abad",
   "metadata": {},
   "outputs": [
    {
     "name": "stdout",
     "output_type": "stream",
     "text": [
      "Coherence Score: 0.47733502030954805\n"
     ]
    }
   ],
   "source": [
    "from gensim import models\n",
    "from gensim.models import CoherenceModel\n",
    "\n",
    "model_lda = models.LdaModel(corpus, num_topics=10, id2word=dic, passes=10, random_state=0)\n",
    "\n",
    "coherence_model_lda = CoherenceModel(model=model_lda, texts=cleaned_abstract, dictionary=dic, coherence='c_v')\n",
    "coherence_score = coherence_model_lda.get_coherence()\n",
    "print(\"Coherence Score:\", coherence_score)"
   ]
  },
  {
   "cell_type": "code",
   "execution_count": 5,
   "id": "ccde8c63",
   "metadata": {},
   "outputs": [
    {
     "name": "stdout",
     "output_type": "stream",
     "text": [
      "토픽: 0\n",
      "토픽: 0.020*\"fuel\" + 0.015*\"energy\" + 0.014*\"biodiesel\" + 0.013*\"biofuels\" + 0.012*\"product\" + 0.012*\"environmental\" + 0.011*\"oil\" + 0.009*\"fossil\" + 0.009*\"chemical\" + 0.008*\"microalgae\"\n",
      "\n",
      "\n",
      "토픽: 1\n",
      "토픽: 0.024*\"temperature\" + 0.022*\"effect\" + 0.014*\"specie\" + 0.013*\"change\" + 0.011*\"ecosystem\" + 0.010*\"increase\" + 0.010*\"marine\" + 0.009*\"climate\" + 0.008*\"web\" + 0.007*\"community\"\n",
      "\n",
      "\n",
      "토픽: 2\n",
      "토픽: 0.020*\"water\" + 0.014*\"change\" + 0.012*\"ocean\" + 0.011*\"temperature\" + 0.010*\"increase\" + 0.010*\"carbon\" + 0.010*\"animal\" + 0.010*\"sea\" + 0.008*\"web\" + 0.007*\"fish\"\n",
      "\n",
      "\n",
      "토픽: 3\n",
      "토픽: 0.028*\"emission\" + 0.012*\"carbon\" + 0.011*\"gas\" + 0.011*\"energy\" + 0.010*\"system\" + 0.010*\"greenhouse\" + 0.009*\"potential\" + 0.008*\"ghg\" + 0.007*\"crop\" + 0.007*\"soil\"\n",
      "\n",
      "\n",
      "토픽: 4\n",
      "토픽: 0.013*\"model\" + 0.011*\"scenario\" + 0.010*\"system\" + 0.009*\"climate\" + 0.008*\"temperature\" + 0.008*\"effect\" + 0.006*\"environmental\" + 0.006*\"change\" + 0.006*\"result\" + 0.006*\"degree\"\n",
      "\n",
      "\n",
      "토픽: 5\n",
      "토픽: 0.014*\"system\" + 0.011*\"waste\" + 0.009*\"size\" + 0.009*\"farm\" + 0.008*\"dairy\" + 0.007*\"plastic\" + 0.007*\"water\" + 0.006*\"population\" + 0.006*\"temperature\" + 0.006*\"higher\"\n",
      "\n",
      "\n",
      "토픽: 6\n",
      "토픽: 0.023*\"climate\" + 0.021*\"change\" + 0.019*\"crop\" + 0.010*\"plant\" + 0.009*\"stress\" + 0.009*\"temperature\" + 0.008*\"security\" + 0.008*\"agricultural\" + 0.008*\"future\" + 0.006*\"heat\"\n",
      "\n",
      "\n",
      "토픽: 7\n",
      "토픽: 0.029*\"climate\" + 0.024*\"change\" + 0.019*\"degree\" + 0.017*\"yield\" + 0.017*\"temperature\" + 0.013*\"increase\" + 0.011*\"model\" + 0.011*\"crop\" + 0.011*\"region\" + 0.009*\"scenario\"\n",
      "\n",
      "\n",
      "토픽: 8\n",
      "토픽: 0.028*\"environmental\" + 0.016*\"potential\" + 0.013*\"cycle\" + 0.012*\"life\" + 0.012*\"study\" + 0.012*\"waste\" + 0.012*\"energy\" + 0.011*\"use\" + 0.010*\"system\" + 0.010*\"assessment\"\n",
      "\n",
      "\n",
      "토픽: 9\n",
      "토픽: 0.046*\"rice\" + 0.032*\"yield\" + 0.020*\"wheat\" + 0.015*\"system\" + 0.014*\"grain\" + 0.013*\"crop\" + 0.012*\"china\" + 0.011*\"increased\" + 0.011*\"gwp\" + 0.010*\"soil\"\n",
      "\n",
      "\n"
     ]
    }
   ],
   "source": [
    "for topic_num, topics in model_lda.print_topics(-1):\n",
    "    print(f'토픽: {topic_num}')\n",
    "    print(f'토픽: {topics}')\n",
    "    print('\\n')"
   ]
  },
  {
   "cell_type": "code",
   "execution_count": null,
   "id": "6a97824f",
   "metadata": {},
   "outputs": [],
   "source": []
  }
 ],
 "metadata": {
  "kernelspec": {
   "display_name": "Python 3 (ipykernel)",
   "language": "python",
   "name": "python3"
  },
  "language_info": {
   "codemirror_mode": {
    "name": "ipython",
    "version": 3
   },
   "file_extension": ".py",
   "mimetype": "text/x-python",
   "name": "python",
   "nbconvert_exporter": "python",
   "pygments_lexer": "ipython3",
   "version": "3.9.12"
  }
 },
 "nbformat": 4,
 "nbformat_minor": 5
}
